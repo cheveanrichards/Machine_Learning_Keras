{
  "nbformat": 4,
  "nbformat_minor": 0,
  "metadata": {
    "colab": {
      "name": "Simple_Face_Detection.ipynb",
      "provenance": [],
      "authorship_tag": "ABX9TyMui7dEe4L/knqWHUmaTkOj",
      "include_colab_link": true
    },
    "kernelspec": {
      "name": "python3",
      "display_name": "Python 3"
    },
    "language_info": {
      "name": "python"
    },
    "accelerator": "GPU"
  },
  "cells": [
    {
      "cell_type": "markdown",
      "metadata": {
        "id": "view-in-github",
        "colab_type": "text"
      },
      "source": [
        "<a href=\"https://colab.research.google.com/github/cheveanrichards/Machine_Learning_Keras/blob/main/Simple_Face_Detection.ipynb\" target=\"_parent\"><img src=\"https://colab.research.google.com/assets/colab-badge.svg\" alt=\"Open In Colab\"/></a>"
      ]
    },
    {
      "cell_type": "code",
      "execution_count": 3,
      "metadata": {
        "id": "dK80inPV9f9N"
      },
      "outputs": [],
      "source": [
        "import PIL.Image\n",
        "import PIL.ImageDraw\n",
        "import face_recognition"
      ]
    },
    {
      "cell_type": "markdown",
      "source": [
        "Load picture data"
      ],
      "metadata": {
        "id": "WdF0_DvR-wav"
      }
    },
    {
      "cell_type": "code",
      "source": [
        "image = face_recognition.load_image_file(\"people.jpg\")"
      ],
      "metadata": {
        "id": "1hKvWj8d-2ii"
      },
      "execution_count": 5,
      "outputs": []
    },
    {
      "cell_type": "code",
      "source": [
        "face_locations = face_recognition.face_locations(image)\n",
        "print(face_locations)"
      ],
      "metadata": {
        "colab": {
          "base_uri": "https://localhost:8080/"
        },
        "id": "fa4JdZM9Dk2A",
        "outputId": "61da93c3-9cc6-45e6-d36c-4ba030b95b87"
      },
      "execution_count": 9,
      "outputs": [
        {
          "output_type": "stream",
          "name": "stdout",
          "text": [
            "[(163, 605, 271, 497), (186, 364, 275, 275), (211, 175, 319, 67), (295, 760, 402, 653), (271, 474, 378, 366), (152, 832, 259, 724)]\n"
          ]
        }
      ]
    },
    {
      "cell_type": "code",
      "source": [
        "number_of_faces = len(face_locations)"
      ],
      "metadata": {
        "id": "GvwXV5OpDveu"
      },
      "execution_count": 7,
      "outputs": []
    },
    {
      "cell_type": "code",
      "source": [
        "print(\"I found {} face(s) in this photograph.\".format(number_of_faces))"
      ],
      "metadata": {
        "colab": {
          "base_uri": "https://localhost:8080/"
        },
        "id": "Cmlx9xjXD94p",
        "outputId": "b12c4d36-fe26-4f17-f66c-4e6417d4b5dd"
      },
      "execution_count": 8,
      "outputs": [
        {
          "output_type": "stream",
          "name": "stdout",
          "text": [
            "I found 6 face(s) in this photograph.\n"
          ]
        }
      ]
    },
    {
      "cell_type": "code",
      "source": [
        "pil_image = PIL.Image.fromarray(image)\n"
      ],
      "metadata": {
        "id": "h6SWeRAmEMZ5"
      },
      "execution_count": 15,
      "outputs": []
    },
    {
      "cell_type": "code",
      "source": [
        "for face_location in face_locations:\n",
        "\n",
        "    # Print the location of each face in this image. Each face is a list of co-ordinates in (top, right, bottom, left) order.\n",
        "    top, right, bottom, left = face_location\n",
        "    print(\"A face is located at pixel location Top: {}, Left: {}, Bottom: {}, Right: {}\".format(top, left, bottom, right))\n",
        "\n",
        "    # Let's draw a box around the face\n",
        "    draw = PIL.ImageDraw.Draw(pil_image)\n",
        "    draw.rectangle([left, top, right, bottom], outline=\"red\")\n",
        "\n",
        "# Display the image on screen\n",
        "pil_image.save(\"pll.jpg\")"
      ],
      "metadata": {
        "colab": {
          "base_uri": "https://localhost:8080/"
        },
        "id": "LhV_qaExExv9",
        "outputId": "a97f795a-45cc-4f7f-a977-301b524b8aa9"
      },
      "execution_count": 21,
      "outputs": [
        {
          "output_type": "stream",
          "name": "stdout",
          "text": [
            "A face is located at pixel location Top: 163, Left: 497, Bottom: 271, Right: 605\n",
            "A face is located at pixel location Top: 186, Left: 275, Bottom: 275, Right: 364\n",
            "A face is located at pixel location Top: 211, Left: 67, Bottom: 319, Right: 175\n",
            "A face is located at pixel location Top: 295, Left: 653, Bottom: 402, Right: 760\n",
            "A face is located at pixel location Top: 271, Left: 366, Bottom: 378, Right: 474\n",
            "A face is located at pixel location Top: 152, Left: 724, Bottom: 259, Right: 832\n"
          ]
        }
      ]
    }
  ]
}