{
  "nbformat": 4,
  "nbformat_minor": 0,
  "metadata": {
    "colab": {
      "name": "Simple_Face_Detection.ipynb",
      "provenance": [],
      "collapsed_sections": [],
      "authorship_tag": "ABX9TyNO4La4vB1BLP6R21l+TzWj",
      "include_colab_link": true
    },
    "kernelspec": {
      "name": "python3",
      "display_name": "Python 3"
    },
    "language_info": {
      "name": "python"
    },
    "accelerator": "GPU"
  },
  "cells": [
    {
      "cell_type": "markdown",
      "metadata": {
        "id": "view-in-github",
        "colab_type": "text"
      },
      "source": [
        "<a href=\"https://colab.research.google.com/github/cheveanrichards/Machine_Learning_Keras/blob/main/Simple_Face_Detection.ipynb\" target=\"_parent\"><img src=\"https://colab.research.google.com/assets/colab-badge.svg\" alt=\"Open In Colab\"/></a>"
      ]
    },
    {
      "cell_type": "code",
      "execution_count": 3,
      "metadata": {
        "id": "dK80inPV9f9N"
      },
      "outputs": [],
      "source": [
        "import PIL.Image\n",
        "import PIL.ImageDraw\n",
        "import face_recognition"
      ]
    },
    {
      "cell_type": "markdown",
      "source": [
        "Load picture data"
      ],
      "metadata": {
        "id": "WdF0_DvR-wav"
      }
    },
    {
      "cell_type": "code",
      "source": [
        "image = face_recognition.load_image_file(\"people.jpg\")"
      ],
      "metadata": {
        "id": "1hKvWj8d-2ii"
      },
      "execution_count": 5,
      "outputs": []
    },
    {
      "cell_type": "code",
      "source": [
        "face_locations = face_recognition.face_locations(image)\n",
        "print(face_locations)"
      ],
      "metadata": {
        "colab": {
          "base_uri": "https://localhost:8080/"
        },
        "id": "fa4JdZM9Dk2A",
        "outputId": "61da93c3-9cc6-45e6-d36c-4ba030b95b87"
      },
      "execution_count": 9,
      "outputs": [
        {
          "output_type": "stream",
          "name": "stdout",
          "text": [
            "[(163, 605, 271, 497), (186, 364, 275, 275), (211, 175, 319, 67), (295, 760, 402, 653), (271, 474, 378, 366), (152, 832, 259, 724)]\n"
          ]
        }
      ]
    },
    {
      "cell_type": "code",
      "source": [
        "number_of_faces = len(face_locations)"
      ],
      "metadata": {
        "id": "GvwXV5OpDveu"
      },
      "execution_count": 7,
      "outputs": []
    },
    {
      "cell_type": "code",
      "source": [
        "print(\"I found {} face(s) in this photograph.\".format(number_of_faces))"
      ],
      "metadata": {
        "colab": {
          "base_uri": "https://localhost:8080/"
        },
        "id": "Cmlx9xjXD94p",
        "outputId": "b12c4d36-fe26-4f17-f66c-4e6417d4b5dd"
      },
      "execution_count": 8,
      "outputs": [
        {
          "output_type": "stream",
          "name": "stdout",
          "text": [
            "I found 6 face(s) in this photograph.\n"
          ]
        }
      ]
    },
    {
      "cell_type": "code",
      "source": [
        "pil_image = PIL.Image.fromarray(image)\n"
      ],
      "metadata": {
        "id": "h6SWeRAmEMZ5"
      },
      "execution_count": 15,
      "outputs": []
    },
    {
      "cell_type": "code",
      "source": [
        "for face_location in face_locations:\n",
        "\n",
        "    # Print the location of each face in this image. Each face is a list of co-ordinates in (top, right, bottom, left) order.\n",
        "    top, right, bottom, left = face_location\n",
        "    print(\"A face is located at pixel location Top: {}, Left: {}, Bottom: {}, Right: {}\".format(top, left, bottom, right))\n",
        "\n",
        "    # Let's draw a box around the face\n",
        "    draw = PIL.ImageDraw.Draw(pil_image)\n",
        "    draw.rectangle([left, top, right, bottom], outline=\"red\")\n",
        "\n",
        "# Display the image on screen\n",
        "pil_image.save(\"pll.jpg\")"
      ],
      "metadata": {
        "colab": {
          "base_uri": "https://localhost:8080/"
        },
        "id": "LhV_qaExExv9",
        "outputId": "a97f795a-45cc-4f7f-a977-301b524b8aa9"
      },
      "execution_count": 21,
      "outputs": [
        {
          "output_type": "stream",
          "name": "stdout",
          "text": [
            "A face is located at pixel location Top: 163, Left: 497, Bottom: 271, Right: 605\n",
            "A face is located at pixel location Top: 186, Left: 275, Bottom: 275, Right: 364\n",
            "A face is located at pixel location Top: 211, Left: 67, Bottom: 319, Right: 175\n",
            "A face is located at pixel location Top: 295, Left: 653, Bottom: 402, Right: 760\n",
            "A face is located at pixel location Top: 271, Left: 366, Bottom: 378, Right: 474\n",
            "A face is located at pixel location Top: 152, Left: 724, Bottom: 259, Right: 832\n"
          ]
        }
      ]
    },
    {
      "cell_type": "markdown",
      "source": [
        "FACE_LANDMARK PROCEDURE\n"
      ],
      "metadata": {
        "id": "zHCE9cXAK-LK"
      }
    },
    {
      "cell_type": "code",
      "source": [
        "import PIL.Image\n",
        "import PIL.ImageDraw\n",
        "import face_recognition"
      ],
      "metadata": {
        "id": "9fSfoOkHLD8W"
      },
      "execution_count": 34,
      "outputs": []
    },
    {
      "cell_type": "code",
      "source": [
        "image2 = face_recognition.load_image_file(\"people.jpg\")"
      ],
      "metadata": {
        "id": "v4s2MlvMLOW-"
      },
      "execution_count": 35,
      "outputs": []
    },
    {
      "cell_type": "code",
      "source": [
        "face_landmarks_list = face_recognition.face_landmarks(image2)\n",
        "print(face_landmarks_list)"
      ],
      "metadata": {
        "colab": {
          "base_uri": "https://localhost:8080/"
        },
        "id": "uJLhe8B4LQuW",
        "outputId": "1da54dc3-2615-4bd8-c0c7-e22bb0f43748"
      },
      "execution_count": 36,
      "outputs": [
        {
          "output_type": "stream",
          "name": "stdout",
          "text": [
            "[{'chin': [(497, 193), (498, 206), (499, 219), (500, 232), (504, 244), (512, 255), (521, 264), (532, 271), (544, 274), (557, 272), (569, 266), (579, 258), (588, 247), (593, 234), (596, 221), (597, 208), (598, 194)], 'left_eyebrow': [(508, 186), (514, 182), (520, 179), (528, 179), (536, 181)], 'right_eyebrow': [(558, 180), (566, 179), (574, 179), (582, 180), (588, 186)], 'nose_bridge': [(547, 191), (546, 200), (546, 208), (545, 217)], 'nose_tip': [(536, 221), (541, 223), (546, 225), (551, 223), (556, 221)], 'left_eye': [(517, 193), (522, 190), (528, 190), (533, 193), (527, 194), (522, 194)], 'right_eye': [(562, 193), (567, 190), (573, 190), (578, 193), (573, 194), (567, 194)], 'top_lip': [(526, 236), (533, 234), (540, 233), (546, 235), (551, 234), (558, 235), (565, 237), (563, 237), (551, 236), (545, 236), (540, 235), (528, 236)], 'bottom_lip': [(565, 237), (558, 243), (550, 246), (545, 246), (539, 245), (532, 242), (526, 236), (528, 236), (539, 240), (545, 241), (551, 241), (563, 237)]}, {'chin': [(275, 203), (276, 214), (277, 225), (278, 237), (282, 247), (288, 257), (296, 265), (304, 272), (315, 275), (326, 274), (335, 268), (342, 260), (347, 250), (351, 241), (354, 230), (355, 219), (356, 208)], 'left_eyebrow': [(284, 196), (290, 192), (297, 193), (303, 195), (310, 199)], 'right_eyebrow': [(327, 199), (334, 196), (341, 194), (348, 195), (352, 200)], 'nose_bridge': [(319, 207), (318, 215), (318, 223), (318, 230)], 'nose_tip': [(307, 232), (312, 234), (318, 236), (323, 235), (328, 234)], 'left_eye': [(291, 206), (296, 203), (302, 204), (306, 209), (301, 209), (295, 209)], 'right_eye': [(330, 210), (335, 207), (341, 206), (345, 209), (341, 211), (335, 211)], 'top_lip': [(296, 242), (304, 240), (311, 240), (317, 242), (323, 241), (330, 242), (336, 245), (334, 245), (322, 245), (317, 245), (311, 244), (298, 243)], 'bottom_lip': [(336, 245), (330, 255), (322, 259), (316, 259), (310, 258), (302, 253), (296, 242), (298, 243), (311, 252), (317, 253), (322, 252), (334, 245)]}, {'chin': [(65, 230), (65, 244), (65, 258), (65, 272), (68, 286), (74, 298), (83, 309), (94, 318), (107, 323), (122, 323), (136, 318), (149, 310), (159, 299), (166, 286), (170, 271), (173, 257), (175, 242)], 'left_eyebrow': [(76, 223), (84, 218), (94, 218), (104, 219), (113, 224)], 'right_eyebrow': [(129, 226), (139, 224), (149, 224), (159, 227), (166, 234)], 'nose_bridge': [(120, 235), (119, 245), (117, 254), (116, 265)], 'nose_tip': [(103, 268), (109, 270), (115, 273), (122, 272), (129, 271)], 'left_eye': [(88, 231), (94, 229), (100, 230), (105, 235), (99, 235), (93, 233)], 'right_eye': [(135, 239), (141, 235), (147, 236), (153, 240), (147, 240), (140, 240)], 'top_lip': [(89, 278), (98, 279), (107, 281), (114, 283), (122, 283), (131, 284), (140, 285), (137, 286), (121, 285), (114, 285), (106, 283), (92, 280)], 'bottom_lip': [(140, 285), (130, 297), (119, 301), (112, 301), (104, 299), (95, 292), (89, 278), (92, 280), (105, 291), (113, 294), (120, 294), (137, 286)]}, {'chin': [(655, 327), (654, 341), (654, 355), (657, 369), (664, 381), (674, 393), (684, 403), (696, 411), (710, 414), (723, 411), (735, 403), (746, 393), (754, 381), (760, 367), (763, 353), (764, 338), (763, 325)], 'left_eyebrow': [(665, 311), (672, 305), (681, 304), (690, 307), (697, 311)], 'right_eyebrow': [(718, 310), (727, 306), (736, 303), (746, 305), (753, 311)], 'nose_bridge': [(708, 321), (709, 331), (709, 342), (709, 352)], 'nose_tip': [(695, 355), (702, 357), (709, 360), (716, 358), (722, 355)], 'left_eye': [(673, 320), (680, 318), (687, 319), (693, 324), (686, 323), (680, 322)], 'right_eye': [(723, 323), (729, 318), (736, 317), (742, 319), (737, 321), (730, 322)], 'top_lip': [(680, 367), (689, 364), (699, 364), (708, 366), (716, 364), (727, 364), (737, 366), (734, 367), (716, 368), (708, 369), (699, 368), (682, 367)], 'bottom_lip': [(737, 366), (728, 379), (717, 385), (708, 386), (699, 385), (689, 379), (680, 367), (682, 367), (699, 379), (708, 379), (717, 378), (734, 367)]}, {'chin': [(362, 296), (362, 310), (364, 324), (366, 336), (371, 349), (379, 361), (389, 371), (400, 379), (412, 382), (424, 380), (435, 371), (444, 361), (452, 349), (456, 337), (458, 324), (460, 312), (461, 300)], 'left_eyebrow': [(376, 292), (383, 288), (392, 286), (401, 287), (409, 292)], 'right_eyebrow': [(424, 294), (432, 292), (440, 291), (448, 293), (454, 297)], 'nose_bridge': [(417, 299), (417, 308), (417, 318), (417, 328)], 'nose_tip': [(406, 330), (411, 333), (417, 335), (422, 333), (426, 331)], 'left_eye': [(388, 298), (393, 295), (400, 294), (405, 299), (399, 299), (393, 299)], 'right_eye': [(426, 300), (432, 296), (438, 296), (444, 299), (438, 301), (432, 300)], 'top_lip': [(388, 339), (398, 339), (407, 340), (414, 342), (420, 340), (428, 340), (437, 341), (433, 342), (421, 343), (414, 344), (407, 343), (391, 340)], 'bottom_lip': [(437, 341), (428, 352), (420, 357), (414, 357), (406, 356), (396, 351), (388, 339), (391, 340), (406, 351), (414, 352), (420, 351), (433, 342)]}, {'chin': [(744, 188), (742, 199), (741, 210), (741, 222), (745, 234), (751, 244), (759, 254), (766, 263), (778, 266), (791, 265), (802, 259), (814, 251), (823, 242), (830, 230), (833, 217), (833, 204), (834, 191)], 'left_eyebrow': [(747, 176), (750, 170), (757, 167), (765, 168), (772, 171)], 'right_eyebrow': [(785, 171), (795, 169), (804, 169), (813, 173), (819, 179)], 'nose_bridge': [(778, 182), (777, 189), (776, 195), (775, 203)], 'nose_tip': [(764, 209), (770, 211), (776, 213), (783, 211), (789, 210)], 'left_eye': [(753, 183), (758, 180), (764, 180), (769, 184), (764, 185), (758, 185)], 'right_eye': [(792, 185), (798, 181), (804, 181), (809, 185), (804, 187), (798, 187)], 'top_lip': [(755, 226), (761, 221), (770, 220), (776, 222), (783, 221), (793, 223), (802, 228), (799, 228), (783, 224), (776, 225), (769, 224), (758, 226)], 'bottom_lip': [(802, 228), (793, 238), (783, 242), (775, 242), (769, 241), (761, 236), (755, 226), (758, 226), (769, 235), (776, 236), (783, 236), (799, 228)]}]\n"
          ]
        }
      ]
    },
    {
      "cell_type": "code",
      "source": [
        "number_of_faces = len(face_landmarks_list)\n",
        "print(\"I found {} face(s) in this photograph.\".format(number_of_faces))"
      ],
      "metadata": {
        "colab": {
          "base_uri": "https://localhost:8080/"
        },
        "id": "_CmmWy34LgO2",
        "outputId": "59fe22bf-4aba-43d5-a85b-a334f8e103ed"
      },
      "execution_count": 37,
      "outputs": [
        {
          "output_type": "stream",
          "name": "stdout",
          "text": [
            "I found 6 face(s) in this photograph.\n"
          ]
        }
      ]
    },
    {
      "cell_type": "code",
      "source": [
        "pil_image2 = PIL.Image.fromarray(image2)"
      ],
      "metadata": {
        "id": "KPoqy6kHLl7R"
      },
      "execution_count": 38,
      "outputs": []
    },
    {
      "cell_type": "code",
      "source": [
        "draw = PIL.ImageDraw.Draw(pil_image2)"
      ],
      "metadata": {
        "id": "usDMjl-uLq7j"
      },
      "execution_count": 39,
      "outputs": []
    },
    {
      "cell_type": "code",
      "source": [
        "# Loop over each face\n",
        "for face_landmarks in face_landmarks_list:\n",
        "\n",
        "    # Loop over each facial feature (eye, nose, mouth, lips, etc)\n",
        "    for name, list_of_points in face_landmarks.items():\n",
        "\n",
        "        # Print the location of each facial feature in this image\n",
        "        print(\"The {} in this face has the following points: {}\".format(name, list_of_points))\n",
        "\n",
        "        # Let's trace out each facial feature in the image with a line!\n",
        "        draw.line(list_of_points, fill=\"blue\", width=2)\n",
        "\n",
        "pil_image2.save(\"pll2.jpg\")"
      ],
      "metadata": {
        "colab": {
          "base_uri": "https://localhost:8080/"
        },
        "id": "mcvf4k5VLw2m",
        "outputId": "99507d7e-7f2f-45f8-9e56-a840ac8f52a3"
      },
      "execution_count": 41,
      "outputs": [
        {
          "output_type": "stream",
          "name": "stdout",
          "text": [
            "The chin in this face has the following points: [(497, 193), (498, 206), (499, 219), (500, 232), (504, 244), (512, 255), (521, 264), (532, 271), (544, 274), (557, 272), (569, 266), (579, 258), (588, 247), (593, 234), (596, 221), (597, 208), (598, 194)]\n",
            "The left_eyebrow in this face has the following points: [(508, 186), (514, 182), (520, 179), (528, 179), (536, 181)]\n",
            "The right_eyebrow in this face has the following points: [(558, 180), (566, 179), (574, 179), (582, 180), (588, 186)]\n",
            "The nose_bridge in this face has the following points: [(547, 191), (546, 200), (546, 208), (545, 217)]\n",
            "The nose_tip in this face has the following points: [(536, 221), (541, 223), (546, 225), (551, 223), (556, 221)]\n",
            "The left_eye in this face has the following points: [(517, 193), (522, 190), (528, 190), (533, 193), (527, 194), (522, 194)]\n",
            "The right_eye in this face has the following points: [(562, 193), (567, 190), (573, 190), (578, 193), (573, 194), (567, 194)]\n",
            "The top_lip in this face has the following points: [(526, 236), (533, 234), (540, 233), (546, 235), (551, 234), (558, 235), (565, 237), (563, 237), (551, 236), (545, 236), (540, 235), (528, 236)]\n",
            "The bottom_lip in this face has the following points: [(565, 237), (558, 243), (550, 246), (545, 246), (539, 245), (532, 242), (526, 236), (528, 236), (539, 240), (545, 241), (551, 241), (563, 237)]\n",
            "The chin in this face has the following points: [(275, 203), (276, 214), (277, 225), (278, 237), (282, 247), (288, 257), (296, 265), (304, 272), (315, 275), (326, 274), (335, 268), (342, 260), (347, 250), (351, 241), (354, 230), (355, 219), (356, 208)]\n",
            "The left_eyebrow in this face has the following points: [(284, 196), (290, 192), (297, 193), (303, 195), (310, 199)]\n",
            "The right_eyebrow in this face has the following points: [(327, 199), (334, 196), (341, 194), (348, 195), (352, 200)]\n",
            "The nose_bridge in this face has the following points: [(319, 207), (318, 215), (318, 223), (318, 230)]\n",
            "The nose_tip in this face has the following points: [(307, 232), (312, 234), (318, 236), (323, 235), (328, 234)]\n",
            "The left_eye in this face has the following points: [(291, 206), (296, 203), (302, 204), (306, 209), (301, 209), (295, 209)]\n",
            "The right_eye in this face has the following points: [(330, 210), (335, 207), (341, 206), (345, 209), (341, 211), (335, 211)]\n",
            "The top_lip in this face has the following points: [(296, 242), (304, 240), (311, 240), (317, 242), (323, 241), (330, 242), (336, 245), (334, 245), (322, 245), (317, 245), (311, 244), (298, 243)]\n",
            "The bottom_lip in this face has the following points: [(336, 245), (330, 255), (322, 259), (316, 259), (310, 258), (302, 253), (296, 242), (298, 243), (311, 252), (317, 253), (322, 252), (334, 245)]\n",
            "The chin in this face has the following points: [(65, 230), (65, 244), (65, 258), (65, 272), (68, 286), (74, 298), (83, 309), (94, 318), (107, 323), (122, 323), (136, 318), (149, 310), (159, 299), (166, 286), (170, 271), (173, 257), (175, 242)]\n",
            "The left_eyebrow in this face has the following points: [(76, 223), (84, 218), (94, 218), (104, 219), (113, 224)]\n",
            "The right_eyebrow in this face has the following points: [(129, 226), (139, 224), (149, 224), (159, 227), (166, 234)]\n",
            "The nose_bridge in this face has the following points: [(120, 235), (119, 245), (117, 254), (116, 265)]\n",
            "The nose_tip in this face has the following points: [(103, 268), (109, 270), (115, 273), (122, 272), (129, 271)]\n",
            "The left_eye in this face has the following points: [(88, 231), (94, 229), (100, 230), (105, 235), (99, 235), (93, 233)]\n",
            "The right_eye in this face has the following points: [(135, 239), (141, 235), (147, 236), (153, 240), (147, 240), (140, 240)]\n",
            "The top_lip in this face has the following points: [(89, 278), (98, 279), (107, 281), (114, 283), (122, 283), (131, 284), (140, 285), (137, 286), (121, 285), (114, 285), (106, 283), (92, 280)]\n",
            "The bottom_lip in this face has the following points: [(140, 285), (130, 297), (119, 301), (112, 301), (104, 299), (95, 292), (89, 278), (92, 280), (105, 291), (113, 294), (120, 294), (137, 286)]\n",
            "The chin in this face has the following points: [(655, 327), (654, 341), (654, 355), (657, 369), (664, 381), (674, 393), (684, 403), (696, 411), (710, 414), (723, 411), (735, 403), (746, 393), (754, 381), (760, 367), (763, 353), (764, 338), (763, 325)]\n",
            "The left_eyebrow in this face has the following points: [(665, 311), (672, 305), (681, 304), (690, 307), (697, 311)]\n",
            "The right_eyebrow in this face has the following points: [(718, 310), (727, 306), (736, 303), (746, 305), (753, 311)]\n",
            "The nose_bridge in this face has the following points: [(708, 321), (709, 331), (709, 342), (709, 352)]\n",
            "The nose_tip in this face has the following points: [(695, 355), (702, 357), (709, 360), (716, 358), (722, 355)]\n",
            "The left_eye in this face has the following points: [(673, 320), (680, 318), (687, 319), (693, 324), (686, 323), (680, 322)]\n",
            "The right_eye in this face has the following points: [(723, 323), (729, 318), (736, 317), (742, 319), (737, 321), (730, 322)]\n",
            "The top_lip in this face has the following points: [(680, 367), (689, 364), (699, 364), (708, 366), (716, 364), (727, 364), (737, 366), (734, 367), (716, 368), (708, 369), (699, 368), (682, 367)]\n",
            "The bottom_lip in this face has the following points: [(737, 366), (728, 379), (717, 385), (708, 386), (699, 385), (689, 379), (680, 367), (682, 367), (699, 379), (708, 379), (717, 378), (734, 367)]\n",
            "The chin in this face has the following points: [(362, 296), (362, 310), (364, 324), (366, 336), (371, 349), (379, 361), (389, 371), (400, 379), (412, 382), (424, 380), (435, 371), (444, 361), (452, 349), (456, 337), (458, 324), (460, 312), (461, 300)]\n",
            "The left_eyebrow in this face has the following points: [(376, 292), (383, 288), (392, 286), (401, 287), (409, 292)]\n",
            "The right_eyebrow in this face has the following points: [(424, 294), (432, 292), (440, 291), (448, 293), (454, 297)]\n",
            "The nose_bridge in this face has the following points: [(417, 299), (417, 308), (417, 318), (417, 328)]\n",
            "The nose_tip in this face has the following points: [(406, 330), (411, 333), (417, 335), (422, 333), (426, 331)]\n",
            "The left_eye in this face has the following points: [(388, 298), (393, 295), (400, 294), (405, 299), (399, 299), (393, 299)]\n",
            "The right_eye in this face has the following points: [(426, 300), (432, 296), (438, 296), (444, 299), (438, 301), (432, 300)]\n",
            "The top_lip in this face has the following points: [(388, 339), (398, 339), (407, 340), (414, 342), (420, 340), (428, 340), (437, 341), (433, 342), (421, 343), (414, 344), (407, 343), (391, 340)]\n",
            "The bottom_lip in this face has the following points: [(437, 341), (428, 352), (420, 357), (414, 357), (406, 356), (396, 351), (388, 339), (391, 340), (406, 351), (414, 352), (420, 351), (433, 342)]\n",
            "The chin in this face has the following points: [(744, 188), (742, 199), (741, 210), (741, 222), (745, 234), (751, 244), (759, 254), (766, 263), (778, 266), (791, 265), (802, 259), (814, 251), (823, 242), (830, 230), (833, 217), (833, 204), (834, 191)]\n",
            "The left_eyebrow in this face has the following points: [(747, 176), (750, 170), (757, 167), (765, 168), (772, 171)]\n",
            "The right_eyebrow in this face has the following points: [(785, 171), (795, 169), (804, 169), (813, 173), (819, 179)]\n",
            "The nose_bridge in this face has the following points: [(778, 182), (777, 189), (776, 195), (775, 203)]\n",
            "The nose_tip in this face has the following points: [(764, 209), (770, 211), (776, 213), (783, 211), (789, 210)]\n",
            "The left_eye in this face has the following points: [(753, 183), (758, 180), (764, 180), (769, 184), (764, 185), (758, 185)]\n",
            "The right_eye in this face has the following points: [(792, 185), (798, 181), (804, 181), (809, 185), (804, 187), (798, 187)]\n",
            "The top_lip in this face has the following points: [(755, 226), (761, 221), (770, 220), (776, 222), (783, 221), (793, 223), (802, 228), (799, 228), (783, 224), (776, 225), (769, 224), (758, 226)]\n",
            "The bottom_lip in this face has the following points: [(802, 228), (793, 238), (783, 242), (775, 242), (769, 241), (761, 236), (755, 226), (758, 226), (769, 235), (776, 236), (783, 236), (799, 228)]\n"
          ]
        }
      ]
    },
    {
      "cell_type": "markdown",
      "source": [
        "Face Encoding"
      ],
      "metadata": {
        "id": "7w0epVfvQB-C"
      }
    },
    {
      "cell_type": "code",
      "source": [
        "import face_recognition\n",
        "\n",
        "# Load the jpg files into numpy arrays\n",
        "image = face_recognition.load_image_file(\"person.jpg\")\n",
        "\n",
        "# Generate the face encodings\n",
        "face_encodings = face_recognition.face_encodings(image)\n",
        "\n",
        "if len(face_encodings) == 0:\n",
        "    # No faces found in the image.\n",
        "    print(\"No faces were found.\")\n",
        "\n",
        "else:\n",
        "    # Grab the first face encoding\n",
        "    first_face_encoding = face_encodings[0]\n",
        "\n",
        "    # Print the results\n",
        "    print(first_face_encoding)"
      ],
      "metadata": {
        "colab": {
          "base_uri": "https://localhost:8080/"
        },
        "id": "2_2aOr5NQFGZ",
        "outputId": "b78d884d-560a-468c-aa85-c40f15b3a33d"
      },
      "execution_count": 42,
      "outputs": [
        {
          "output_type": "stream",
          "name": "stdout",
          "text": [
            "[-0.20855851  0.01845224  0.05200066 -0.01912927 -0.02748835 -0.01855115\n",
            " -0.02725497 -0.0184503   0.19835585 -0.0112457   0.19645664  0.0160067\n",
            " -0.15621796 -0.08862408 -0.00915148  0.11604425 -0.12597211 -0.14229296\n",
            " -0.03572806 -0.03505833  0.03726118  0.03980888 -0.07782647  0.07926027\n",
            " -0.14744228 -0.3470616  -0.10856146 -0.12216781  0.01723715 -0.11650665\n",
            "  0.06511284 -0.03900211 -0.18297049 -0.10930697  0.06847559  0.12637652\n",
            " -0.05037969 -0.09572248  0.13429841 -0.00703449 -0.16005872 -0.05573067\n",
            "  0.08435321  0.27441847  0.13435344  0.08523722  0.00496128 -0.11246416\n",
            "  0.16313235 -0.27373844  0.08402453  0.10128954  0.15344827  0.10832103\n",
            "  0.11609219 -0.09201843  0.07474768  0.25488392 -0.30816695  0.10207553\n",
            "  0.00198595 -0.01495537  0.03411685 -0.02620055  0.21705674  0.14441346\n",
            " -0.11093327 -0.12751678  0.17208101 -0.16183111 -0.04968163  0.12839435\n",
            " -0.03207506 -0.26411176 -0.31615111  0.07128874  0.36263996  0.18028149\n",
            " -0.13117105 -0.01013261 -0.05811106 -0.00737814  0.03560949  0.03457599\n",
            " -0.09948462 -0.06623524 -0.05779983 -0.01711864  0.24389167  0.12510213\n",
            "  0.003106    0.16942385 -0.01417204 -0.02782659  0.00143109  0.06574458\n",
            " -0.10071308  0.00664661 -0.0764025  -0.06614338  0.03114725  0.03002062\n",
            "  0.07674076  0.13323891 -0.21063018  0.15302026 -0.01548971 -0.04833605\n",
            "  0.00523034 -0.02149034 -0.06463669  0.01915052  0.14195825 -0.29341793\n",
            "  0.22209312  0.12297855  0.04837443  0.15621084  0.00215639  0.00968095\n",
            " -0.03717986 -0.11729009 -0.17494757 -0.01424957  0.05999148 -0.07590403\n",
            "  0.07595529 -0.00694486]\n"
          ]
        }
      ]
    },
    {
      "cell_type": "markdown",
      "source": [
        "The Face Recognition System"
      ],
      "metadata": {
        "id": "h8h2_zafRtgD"
      }
    },
    {
      "cell_type": "code",
      "source": [
        "import face_recognition\n",
        "\n",
        "# Load the known images\n",
        "image_of_person_1 = face_recognition.load_image_file(\"person_1.jpg\")\n",
        "image_of_person_2 = face_recognition.load_image_file(\"person_2.jpg\")\n",
        "image_of_person_3 = face_recognition.load_image_file(\"person_3.jpg\")\n",
        "\n",
        "# Get the face encoding of each person. This can fail if no one is found in the photo.\n",
        "person_1_face_encoding = face_recognition.face_encodings(image_of_person_1)[0]\n",
        "person_2_face_encoding = face_recognition.face_encodings(image_of_person_2)[0]\n",
        "person_3_face_encoding = face_recognition.face_encodings(image_of_person_3)[0]\n",
        "\n",
        "# Create a list of all known face encodings\n",
        "known_face_encodings = [\n",
        "    person_1_face_encoding,\n",
        "    person_2_face_encoding,\n",
        "    person_3_face_encoding\n",
        "]\n",
        "\n",
        "# Load the image we want to check\n",
        "unknown_image = face_recognition.load_image_file(\"unknown_5.jpg\")\n",
        "\n",
        "# Get face encodings for any people in the picture\n",
        "unknown_face_encodings = face_recognition.face_encodings(unknown_image)\n",
        "\n",
        "# There might be more than one person in the photo, so we need to loop over each face we found\n",
        "for unknown_face_encoding in unknown_face_encodings:\n",
        "\n",
        "    # Test if this unknown face encoding matches any of the three people we know\n",
        "    results = face_recognition.compare_faces(known_face_encodings, unknown_face_encoding, tolerance=0.6)\n",
        "\n",
        "    name = \"Unknown\"\n",
        "\n",
        "    if results[0]:\n",
        "        name = \"Person 1\"\n",
        "    elif results[1]:\n",
        "        name = \"Person 2\"\n",
        "    elif results[2]:\n",
        "        name = \"Person 3\"\n",
        "\n",
        "    print(f\"Found {name} in the photo!\")"
      ],
      "metadata": {
        "colab": {
          "base_uri": "https://localhost:8080/"
        },
        "id": "XamqW9eJRyoT",
        "outputId": "b245face-87be-4aa3-fc21-739f0c94f937"
      },
      "execution_count": 46,
      "outputs": [
        {
          "output_type": "stream",
          "name": "stdout",
          "text": [
            "Found Person 1 in the photo!\n",
            "Found Person 3 in the photo!\n"
          ]
        }
      ]
    },
    {
      "cell_type": "markdown",
      "source": [
        "Tuning the System"
      ],
      "metadata": {
        "id": "MdqOK22MTYg2"
      }
    },
    {
      "cell_type": "code",
      "source": [
        "import face_recognition\n",
        "\n",
        "# Load the known images\n",
        "image_of_person_1 = face_recognition.load_image_file(\"person_1.jpg\")\n",
        "image_of_person_2 = face_recognition.load_image_file(\"person_2.jpg\")\n",
        "image_of_person_3 = face_recognition.load_image_file(\"person_3.jpg\")\n",
        "\n",
        "# Get the face encoding of each person. This can fail if no one is found in the photo.\n",
        "person_1_face_encoding = face_recognition.face_encodings(image_of_person_1)[0]\n",
        "person_2_face_encoding = face_recognition.face_encodings(image_of_person_2)[0]\n",
        "person_3_face_encoding = face_recognition.face_encodings(image_of_person_3)[0]\n",
        "\n",
        "# Create a list of all known face encodings\n",
        "known_face_encodings = [\n",
        "    person_1_face_encoding,\n",
        "    person_2_face_encoding,\n",
        "    person_3_face_encoding\n",
        "]\n",
        "\n",
        "# Load the image we want to check\n",
        "unknown_image = face_recognition.load_image_file(\"unknown_5.jpg\")\n",
        "\n",
        "# Get face encodings for any people in the picture\n",
        "face_locations = face_recognition.face_locations(unknown_image, number_of_times_to_upsample=2)\n",
        "unknown_face_encodings = face_recognition.face_encodings(unknown_image, known_face_locations=face_locations)\n",
        "\n",
        "# There might be more than one person in the photo, so we need to loop over each face we found\n",
        "for unknown_face_encoding in unknown_face_encodings:\n",
        "\n",
        "    # Test if this unknown face encoding matches any of the three people we know\n",
        "    results = face_recognition.compare_faces(known_face_encodings, unknown_face_encoding, tolerance=0.6)\n",
        "\n",
        "    name = \"Unknown\"\n",
        "\n",
        "    if results[0]:\n",
        "        name = \"Person 1\"\n",
        "    elif results[1]:\n",
        "        name = \"Person 2\"\n",
        "    elif results[2]:\n",
        "        name = \"Person 3\"\n",
        "\n",
        "    print(f\"Found {name} in the photo!\")\n"
      ],
      "metadata": {
        "colab": {
          "base_uri": "https://localhost:8080/"
        },
        "id": "bU6k_9SmTa3U",
        "outputId": "196017a2-b318-4aae-f34f-001a94e0f2d1"
      },
      "execution_count": 48,
      "outputs": [
        {
          "output_type": "stream",
          "name": "stdout",
          "text": [
            "Found Person 1 in the photo!\n",
            "Found Person 3 in the photo!\n"
          ]
        }
      ]
    }
  ]
}