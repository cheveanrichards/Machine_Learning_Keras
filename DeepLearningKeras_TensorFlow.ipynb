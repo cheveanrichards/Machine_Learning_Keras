{
  "nbformat": 4,
  "nbformat_minor": 0,
  "metadata": {
    "colab": {
      "name": "DeepLearningKeras_TensorFlow",
      "provenance": [],
      "authorship_tag": "ABX9TyPs+QKQrqXriODgBZFCb5Lz",
      "include_colab_link": true
    },
    "kernelspec": {
      "name": "python3",
      "display_name": "Python 3"
    },
    "language_info": {
      "name": "python"
    }
  },
  "cells": [
    {
      "cell_type": "markdown",
      "metadata": {
        "id": "view-in-github",
        "colab_type": "text"
      },
      "source": [
        "<a href=\"https://colab.research.google.com/github/cheveanrichards/Machine_Learning_Keras/blob/main/DeepLearningKeras_TensorFlow.ipynb\" target=\"_parent\"><img src=\"https://colab.research.google.com/assets/colab-badge.svg\" alt=\"Open In Colab\"/></a>"
      ]
    },
    {
      "cell_type": "code",
      "execution_count": 14,
      "metadata": {
        "id": "O8bp4cqVpSQm"
      },
      "outputs": [],
      "source": [
        "import pandas as pd\n",
        "from sklearn.preprocessing import MinMaxScaler\n",
        "from keras.models import Sequential\n",
        "from keras.layers import *\n"
      ]
    },
    {
      "cell_type": "code",
      "source": [
        "training_data_df = pd.read_csv(\"sales_data_training.csv\")"
      ],
      "metadata": {
        "id": "jqub6UcMsE9R"
      },
      "execution_count": 3,
      "outputs": []
    },
    {
      "cell_type": "code",
      "source": [
        "test_data_df = pd.read_csv(\"sales_data_test.csv\")"
      ],
      "metadata": {
        "id": "QOJTPpH1saYg"
      },
      "execution_count": 8,
      "outputs": []
    },
    {
      "cell_type": "markdown",
      "source": [
        "Minmax Scaler from Scikit learn to make all colums in datatset between 0 and 1"
      ],
      "metadata": {
        "id": "q58c1NjZtUEW"
      }
    },
    {
      "cell_type": "code",
      "source": [
        "scaler = MinMaxScaler(feature_range=(0,1))\n",
        "#scaling training data and test data\n",
        "\n",
        "scaled_training = scaler.fit_transform(training_data_df)\n",
        "print(scaled_training)\n",
        "scaled_test = scaler.transform(test_data_df)\n",
        "print(scaled_test)"
      ],
      "metadata": {
        "colab": {
          "base_uri": "https://localhost:8080/"
        },
        "id": "nv_Sn8xwslup",
        "outputId": "c1f06af5-440d-4a3a-a33b-ae7c5f54f755"
      },
      "execution_count": 9,
      "outputs": [
        {
          "output_type": "stream",
          "name": "stdout",
          "text": [
            "[[0.5        1.         1.         ... 1.         0.89532396 1.        ]\n",
            " [0.16666667 0.         0.         ... 0.         0.15993103 1.        ]\n",
            " [0.5        0.         0.         ... 0.         0.19683688 1.        ]\n",
            " ...\n",
            " [1.         1.         1.         ... 0.         0.44952189 0.        ]\n",
            " [0.         1.         1.         ... 0.         0.1073494  0.        ]\n",
            " [0.5        1.         0.         ... 0.         0.185974   0.5       ]]\n",
            "[[0.5        1.         1.         ... 1.         0.89532396 1.        ]\n",
            " [0.16666667 0.         0.         ... 0.         0.15993103 1.        ]\n",
            " [0.5        0.         0.         ... 0.         0.19683688 1.        ]\n",
            " ...\n",
            " [1.         1.         1.         ... 0.         0.44952189 0.        ]\n",
            " [0.         1.         1.         ... 0.         0.1073494  0.        ]\n",
            " [0.5        1.         0.         ... 0.         0.185974   0.5       ]]\n"
          ]
        }
      ]
    },
    {
      "cell_type": "code",
      "source": [
        "print(\"Note: total_earnings values were scaled by multiplying by {:.10f} and adding {:.6f}\".format(scaler.scale_[8], scaler.min_[8]))"
      ],
      "metadata": {
        "colab": {
          "base_uri": "https://localhost:8080/"
        },
        "id": "3XOwk7IeupeK",
        "outputId": "eb01dbf0-b1fb-4a4a-a57f-eee7c990f715"
      },
      "execution_count": 10,
      "outputs": [
        {
          "output_type": "stream",
          "name": "stdout",
          "text": [
            "Note: total_earnings values were scaled by multiplying by 0.0000042367 and adding -0.153415\n"
          ]
        }
      ]
    },
    {
      "cell_type": "code",
      "source": [
        "scaled_training_df = pd.DataFrame(scaled_training, columns=training_data_df.columns.values)\n",
        "scaled_testing_df = pd.DataFrame(scaled_test, columns=test_data_df.columns.values)\n"
      ],
      "metadata": {
        "id": "diJa-hAtwa1g"
      },
      "execution_count": 12,
      "outputs": []
    },
    {
      "cell_type": "code",
      "source": [
        "\n",
        "scaled_training_df.to_csv(\"sales_data_training_scaled.csv\", index=False)\n",
        "scaled_testing_df.to_csv(\"sales_data_test_scaled.csv\", index=False)"
      ],
      "metadata": {
        "id": "sq04JGRKwmnt"
      },
      "execution_count": 13,
      "outputs": []
    },
    {
      "cell_type": "markdown",
      "source": [
        "Creating the KERAS model now"
      ],
      "metadata": {
        "id": "0z5uq72VxOx_"
      }
    },
    {
      "cell_type": "code",
      "source": [
        "training_data_df = pd.read_csv(\"sales_data_training_scaled.csv\")\n",
        "\n",
        "X = training_data_df.drop('total_earnings', axis=1).values\n",
        "Y = training_data_df[['total_earnings']].values\n"
      ],
      "metadata": {
        "id": "bIr1wPASxTkJ"
      },
      "execution_count": 15,
      "outputs": []
    },
    {
      "cell_type": "code",
      "source": [
        "model = Sequential()\n",
        "model.add(Dense(500, input_dim=9, activation=\"relu\"))\n",
        "model.add(Dense(1000, activation=\"relu\"))\n",
        "model.add(Dense(5000, activation=\"relu\"))\n",
        "model.add(Dense(1, activation='linear'))\n",
        "model.compile(loss=\"mean_squared_error\", optimizer=\"adam\")"
      ],
      "metadata": {
        "id": "6rCkZ3jKxdjQ"
      },
      "execution_count": 24,
      "outputs": []
    },
    {
      "cell_type": "markdown",
      "source": [
        "Beginning to train the model now "
      ],
      "metadata": {
        "id": "yUGCRe_y0Tm-"
      }
    },
    {
      "cell_type": "code",
      "source": [
        "model.fit( X, Y, epochs=50, shuffle=True, verbose=2)"
      ],
      "metadata": {
        "colab": {
          "base_uri": "https://localhost:8080/"
        },
        "id": "Fxf-tjfd0W0L",
        "outputId": "9c05bf79-b5bf-4e8f-887a-987a8c922436"
      },
      "execution_count": 25,
      "outputs": [
        {
          "output_type": "stream",
          "name": "stdout",
          "text": [
            "Epoch 1/50\n",
            "13/13 - 1s - loss: 0.1933 - 1s/epoch - 108ms/step\n",
            "Epoch 2/50\n",
            "13/13 - 1s - loss: 0.0235 - 712ms/epoch - 55ms/step\n",
            "Epoch 3/50\n",
            "13/13 - 1s - loss: 0.0069 - 739ms/epoch - 57ms/step\n",
            "Epoch 4/50\n",
            "13/13 - 1s - loss: 0.0016 - 731ms/epoch - 56ms/step\n",
            "Epoch 5/50\n",
            "13/13 - 1s - loss: 4.8978e-04 - 734ms/epoch - 56ms/step\n",
            "Epoch 6/50\n",
            "13/13 - 1s - loss: 3.9960e-04 - 731ms/epoch - 56ms/step\n",
            "Epoch 7/50\n",
            "13/13 - 1s - loss: 2.0703e-04 - 732ms/epoch - 56ms/step\n",
            "Epoch 8/50\n",
            "13/13 - 1s - loss: 1.0894e-04 - 735ms/epoch - 57ms/step\n",
            "Epoch 9/50\n",
            "13/13 - 1s - loss: 6.9033e-05 - 725ms/epoch - 56ms/step\n",
            "Epoch 10/50\n",
            "13/13 - 1s - loss: 5.3004e-05 - 752ms/epoch - 58ms/step\n",
            "Epoch 11/50\n",
            "13/13 - 1s - loss: 6.8829e-05 - 743ms/epoch - 57ms/step\n",
            "Epoch 12/50\n",
            "13/13 - 1s - loss: 5.2007e-05 - 734ms/epoch - 56ms/step\n",
            "Epoch 13/50\n",
            "13/13 - 1s - loss: 4.1244e-05 - 714ms/epoch - 55ms/step\n",
            "Epoch 14/50\n",
            "13/13 - 1s - loss: 3.3922e-05 - 716ms/epoch - 55ms/step\n",
            "Epoch 15/50\n",
            "13/13 - 1s - loss: 3.2789e-05 - 719ms/epoch - 55ms/step\n",
            "Epoch 16/50\n",
            "13/13 - 1s - loss: 3.7489e-05 - 714ms/epoch - 55ms/step\n",
            "Epoch 17/50\n",
            "13/13 - 1s - loss: 3.2923e-05 - 718ms/epoch - 55ms/step\n",
            "Epoch 18/50\n",
            "13/13 - 1s - loss: 3.5910e-05 - 718ms/epoch - 55ms/step\n",
            "Epoch 19/50\n",
            "13/13 - 1s - loss: 3.8227e-05 - 724ms/epoch - 56ms/step\n",
            "Epoch 20/50\n",
            "13/13 - 1s - loss: 2.7980e-05 - 707ms/epoch - 54ms/step\n",
            "Epoch 21/50\n",
            "13/13 - 1s - loss: 2.2461e-05 - 724ms/epoch - 56ms/step\n",
            "Epoch 22/50\n",
            "13/13 - 1s - loss: 2.7236e-05 - 713ms/epoch - 55ms/step\n",
            "Epoch 23/50\n",
            "13/13 - 1s - loss: 5.5852e-05 - 711ms/epoch - 55ms/step\n",
            "Epoch 24/50\n",
            "13/13 - 1s - loss: 4.8364e-05 - 730ms/epoch - 56ms/step\n",
            "Epoch 25/50\n",
            "13/13 - 1s - loss: 2.3872e-05 - 716ms/epoch - 55ms/step\n",
            "Epoch 26/50\n",
            "13/13 - 1s - loss: 2.1305e-05 - 712ms/epoch - 55ms/step\n",
            "Epoch 27/50\n",
            "13/13 - 1s - loss: 1.8892e-05 - 748ms/epoch - 58ms/step\n",
            "Epoch 28/50\n",
            "13/13 - 1s - loss: 1.7914e-05 - 726ms/epoch - 56ms/step\n",
            "Epoch 29/50\n",
            "13/13 - 1s - loss: 1.5701e-05 - 724ms/epoch - 56ms/step\n",
            "Epoch 30/50\n",
            "13/13 - 1s - loss: 2.1378e-05 - 727ms/epoch - 56ms/step\n",
            "Epoch 31/50\n",
            "13/13 - 1s - loss: 2.2382e-05 - 737ms/epoch - 57ms/step\n",
            "Epoch 32/50\n",
            "13/13 - 1s - loss: 1.5676e-05 - 724ms/epoch - 56ms/step\n",
            "Epoch 33/50\n",
            "13/13 - 1s - loss: 1.8571e-05 - 713ms/epoch - 55ms/step\n",
            "Epoch 34/50\n",
            "13/13 - 1s - loss: 2.0688e-05 - 737ms/epoch - 57ms/step\n",
            "Epoch 35/50\n",
            "13/13 - 1s - loss: 2.0677e-05 - 727ms/epoch - 56ms/step\n",
            "Epoch 36/50\n",
            "13/13 - 1s - loss: 1.9964e-05 - 732ms/epoch - 56ms/step\n",
            "Epoch 37/50\n",
            "13/13 - 1s - loss: 2.7102e-05 - 716ms/epoch - 55ms/step\n",
            "Epoch 38/50\n",
            "13/13 - 1s - loss: 1.7724e-05 - 716ms/epoch - 55ms/step\n",
            "Epoch 39/50\n",
            "13/13 - 1s - loss: 1.5153e-05 - 708ms/epoch - 54ms/step\n",
            "Epoch 40/50\n",
            "13/13 - 1s - loss: 2.0449e-05 - 695ms/epoch - 53ms/step\n",
            "Epoch 41/50\n",
            "13/13 - 1s - loss: 1.5654e-05 - 736ms/epoch - 57ms/step\n",
            "Epoch 42/50\n",
            "13/13 - 1s - loss: 1.7367e-05 - 719ms/epoch - 55ms/step\n",
            "Epoch 43/50\n",
            "13/13 - 1s - loss: 1.9802e-05 - 697ms/epoch - 54ms/step\n",
            "Epoch 44/50\n",
            "13/13 - 1s - loss: 2.2289e-05 - 719ms/epoch - 55ms/step\n",
            "Epoch 45/50\n",
            "13/13 - 1s - loss: 2.0933e-05 - 718ms/epoch - 55ms/step\n",
            "Epoch 46/50\n",
            "13/13 - 1s - loss: 3.2928e-05 - 713ms/epoch - 55ms/step\n",
            "Epoch 47/50\n",
            "13/13 - 1s - loss: 3.1076e-05 - 719ms/epoch - 55ms/step\n",
            "Epoch 48/50\n",
            "13/13 - 1s - loss: 2.4813e-05 - 734ms/epoch - 56ms/step\n",
            "Epoch 49/50\n",
            "13/13 - 1s - loss: 2.0225e-05 - 763ms/epoch - 59ms/step\n",
            "Epoch 50/50\n",
            "13/13 - 1s - loss: 2.1229e-05 - 722ms/epoch - 56ms/step\n"
          ]
        },
        {
          "output_type": "execute_result",
          "data": {
            "text/plain": [
              "<keras.callbacks.History at 0x7fe3dd339b90>"
            ]
          },
          "metadata": {},
          "execution_count": 25
        }
      ]
    },
    {
      "cell_type": "markdown",
      "source": [
        "Measure the model against Fresh data\n"
      ],
      "metadata": {
        "id": "URkz5dgh1OSO"
      }
    },
    {
      "cell_type": "code",
      "source": [
        "test_data_df = pd.read_csv(\"sales_data_test_scaled.csv\")\n",
        "\n",
        "X_test = test_data_df.drop('total_earnings', axis=1).values\n",
        "Y_test = test_data_df[['total_earnings']].values\n",
        "\n",
        "test_error_rate = model.evaluate(X_test, Y_test, verbose=0)\n",
        "print(\"The mean squared error (MSE) for the test data set is: {}\".format(test_error_rate))\n",
        "\n",
        "model.save(\"trained_model\")"
      ],
      "metadata": {
        "colab": {
          "base_uri": "https://localhost:8080/"
        },
        "id": "9izVhAc11XDr",
        "outputId": "7aac99b9-f8a9-43a8-cd1a-ccf17cf033ca"
      },
      "execution_count": 40,
      "outputs": [
        {
          "output_type": "stream",
          "name": "stdout",
          "text": [
            "The mean squared error (MSE) for the test data set is: 1.858428367995657e-05\n",
            "INFO:tensorflow:Assets written to: trained_model/assets\n"
          ]
        }
      ]
    },
    {
      "cell_type": "markdown",
      "source": [
        ""
      ],
      "metadata": {
        "id": "HXwvAKyC6avB"
      }
    },
    {
      "cell_type": "markdown",
      "source": [
        " "
      ],
      "metadata": {
        "id": "0lf9TV7G3JEb"
      }
    },
    {
      "cell_type": "markdown",
      "source": [
        "Manipulate the layers in Dense as well as the epoch to see if you can lower the mse . Now that the model is train we can predict stuff"
      ],
      "metadata": {
        "id": "pEkhCQbC2vpS"
      }
    },
    {
      "cell_type": "code",
      "source": [
        "X = pd.read_csv(\"proposed_new_product.csv\").values\n",
        "\n",
        "prediction = model.predict(X)\n",
        "prediction = prediction[0][0]\n",
        "# Keras uses 2D arrays\n",
        "\n",
        "# Re-scale the data from the 0-to-1 range back to dollars\n",
        "# These constants are from when the data was originally scaled down to the 0-to-1 range\n",
        "prediction = prediction + 0.1159\n",
        "prediction = prediction / 0.0000036968\n",
        "\n",
        "print(\"Earnings Prediction for Proposed Product - ${}\".format(prediction))\n"
      ],
      "metadata": {
        "colab": {
          "base_uri": "https://localhost:8080/"
        },
        "id": "PQT-04Pi3F7J",
        "outputId": "dbe22987-88a9-4c42-9d76-5dd151b1f21b"
      },
      "execution_count": 27,
      "outputs": [
        {
          "output_type": "stream",
          "name": "stdout",
          "text": [
            "Earnings Prediction for Proposed Product - $289794.5539540115\n"
          ]
        }
      ]
    }
  ]
}