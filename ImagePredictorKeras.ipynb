{
  "nbformat": 4,
  "nbformat_minor": 0,
  "metadata": {
    "colab": {
      "name": "ImagePredictorKeras.ipynb",
      "provenance": [],
      "collapsed_sections": [],
      "authorship_tag": "ABX9TyNsbJB5Pee/lMc1J1zp3NcN",
      "include_colab_link": true
    },
    "kernelspec": {
      "name": "python3",
      "display_name": "Python 3"
    },
    "language_info": {
      "name": "python"
    }
  },
  "cells": [
    {
      "cell_type": "markdown",
      "metadata": {
        "id": "view-in-github",
        "colab_type": "text"
      },
      "source": [
        "<a href=\"https://colab.research.google.com/github/cheveanrichards/Machine_Learning_Keras/blob/main/ImagePredictorKeras.ipynb\" target=\"_parent\"><img src=\"https://colab.research.google.com/assets/colab-badge.svg\" alt=\"Open In Colab\"/></a>"
      ]
    },
    {
      "cell_type": "code",
      "execution_count": 6,
      "metadata": {
        "id": "69RaMlBUFHUa"
      },
      "outputs": [],
      "source": [
        "import numpy as np\n",
        "from keras_preprocessing import image\n",
        "from keras.applications import resnet\n"
      ]
    },
    {
      "cell_type": "markdown",
      "source": [
        "Load ResNet50 pretrained model"
      ],
      "metadata": {
        "id": "DJIzw3XGGJQr"
      }
    },
    {
      "cell_type": "code",
      "source": [
        "model = resnet.ResNet50()\n",
        "img = image.load_img(\"bay.jpg\")\n"
      ],
      "metadata": {
        "colab": {
          "base_uri": "https://localhost:8080/"
        },
        "id": "g14aLd0YGQgs",
        "outputId": "66281d0a-5af6-453e-fe4a-2021cc1a3ee7"
      },
      "execution_count": 7,
      "outputs": [
        {
          "output_type": "stream",
          "name": "stdout",
          "text": [
            "Downloading data from https://storage.googleapis.com/tensorflow/keras-applications/resnet/resnet50_weights_tf_dim_ordering_tf_kernels.h5\n",
            "102973440/102967424 [==============================] - 1s 0us/step\n",
            "102981632/102967424 [==============================] - 1s 0us/step\n"
          ]
        }
      ]
    },
    {
      "cell_type": "markdown",
      "source": [
        "Image is too large size have to match the number of nodes in Neural Network"
      ],
      "metadata": {
        "id": "FpjSi2-fHMxg"
      }
    },
    {
      "cell_type": "code",
      "source": [
        "img2 = image.load_img(\"bay.jpg\", target_size=(224,224))\n",
        "# covert image to array\n",
        "x = image.img_to_array(img2)"
      ],
      "metadata": {
        "id": "rE9pO5HyHSuk"
      },
      "execution_count": 8,
      "outputs": []
    },
    {
      "cell_type": "markdown",
      "source": [
        "Keras expect multiple images but we only have one \n",
        "Scaling and Normalizing Image Data"
      ],
      "metadata": {
        "id": "js_zCrNqIOAm"
      }
    },
    {
      "cell_type": "code",
      "source": [
        "x2 = np.expand_dims(x, axis=0)\n",
        "\n",
        "#normalize image data\n",
        "\n",
        "x3 = resnet.preprocess_input(x2)"
      ],
      "metadata": {
        "id": "e0Qy4JjUHxDp"
      },
      "execution_count": 10,
      "outputs": []
    },
    {
      "cell_type": "markdown",
      "source": [
        "Predicting the Image Model"
      ],
      "metadata": {
        "id": "Oa_FcLQnJ83n"
      }
    },
    {
      "cell_type": "code",
      "source": [
        "prediction = model.predict(x3)\n",
        "# 1000 element of floating point numbers\n",
        "\n",
        "predicted_classes = resnet.decode_predictions(prediction, top=9)\n",
        "# predicted the top 9 matches from the resnet50 model"
      ],
      "metadata": {
        "colab": {
          "base_uri": "https://localhost:8080/"
        },
        "id": "NCVH1RUfIX_M",
        "outputId": "bff453d5-612c-431b-982c-5120932c0f63"
      },
      "execution_count": 12,
      "outputs": [
        {
          "output_type": "stream",
          "name": "stdout",
          "text": [
            "Downloading data from https://storage.googleapis.com/download.tensorflow.org/data/imagenet_class_index.json\n",
            "40960/35363 [==================================] - 0s 0us/step\n",
            "49152/35363 [=========================================] - 0s 0us/step\n"
          ]
        }
      ]
    },
    {
      "cell_type": "code",
      "source": [
        "print(\"This is an image of:\")\n",
        "\n",
        "for imagenet_id, name, likelihood in predicted_classes[0]:\n",
        "    print(\" - {}: {:2f} likelihood\".format(name, likelihood))\n"
      ],
      "metadata": {
        "colab": {
          "base_uri": "https://localhost:8080/"
        },
        "id": "7s19bposJ251",
        "outputId": "22fb543c-b137-4547-f66e-4b16c31d491b"
      },
      "execution_count": 13,
      "outputs": [
        {
          "output_type": "stream",
          "name": "stdout",
          "text": [
            "This is an image of:\n",
            " - seashore: 0.570416 likelihood\n",
            " - lakeside: 0.292265 likelihood\n",
            " - dock: 0.082964 likelihood\n",
            " - breakwater: 0.037219 likelihood\n",
            " - promontory: 0.005919 likelihood\n",
            " - catamaran: 0.002877 likelihood\n",
            " - sandbar: 0.001334 likelihood\n",
            " - trimaran: 0.000754 likelihood\n",
            " - pier: 0.000743 likelihood\n"
          ]
        }
      ]
    }
  ]
}